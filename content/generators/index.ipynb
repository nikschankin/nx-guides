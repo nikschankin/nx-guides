{
 "cells": [
  {
   "cell_type": "markdown",
   "id": "11022c95",
   "metadata": {},
   "source": [
    "# Graph Generators\n",
    "\n",
    "A closer look at the functions provided by NetworkX to create interesting\n",
    "graphs.\n",
    "\n",
    "```{toctree}\n",
    "---\n",
    "maxdepth: 1\n",
    "---\n",
    "geometric\n",
    "sudoku\n",
    "```"
   ]
  }
 ],
 "metadata": {
  "jupytext": {
   "cell_metadata_filter": "-all",
   "main_language": "python",
   "notebook_metadata_filter": "-all"
  }
 },
 "nbformat": 4,
 "nbformat_minor": 5
}
