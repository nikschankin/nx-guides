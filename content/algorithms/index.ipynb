{
 "cells": [
  {
   "cell_type": "markdown",
   "id": "136cc85e",
   "metadata": {},
   "source": [
    "# Algorithms\n",
    "\n",
    "A closer look at some of the algorithms and network analysis techniques\n",
    "provided by NetworkX.\n",
    "\n",
    "```{toctree}\n",
    "---\n",
    "maxdepth: 1\n",
    "---\n",
    "assortativity/correlation\n",
    "dag/index\n",
    "flow/dinitz_alg\n",
    "lca/LCA\n",
    "euler/euler\n",
    "isomorphism/isomorphism\n",
    "```"
   ]
  }
 ],
 "metadata": {
  "jupytext": {
   "cell_metadata_filter": "-all",
   "main_language": "python",
   "notebook_metadata_filter": "-all"
  }
 },
 "nbformat": 4,
 "nbformat_minor": 5
}
