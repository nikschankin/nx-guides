{
 "cells": [
  {
   "cell_type": "markdown",
   "id": "8bf359bd",
   "metadata": {},
   "source": [
    "# Dinitz's Algorithm and Applications\n",
    "\n",
    "In this tutorial, we will explore the maximum flow problem [^1] and Dinitz's\n",
    "algorithm [^2] , which is implemented at\n",
    "[`algorithms/flow/dinitz_alg.py`](https://github.com/networkx/networkx/blob/main/networkx/algorithms/flow/dinitz_alg.py)\n",
    "in NetworkX. We will also see how it can be used to solve some interesting problems.\n",
    "\n",
    "\n",
    "## Import packages"
   ]
  },
  {
   "cell_type": "code",
   "execution_count": null,
   "id": "b263a532",
   "metadata": {},
   "outputs": [],
   "source": [
    "import networkx as nx\n",
    "import numpy as np\n",
    "import matplotlib.pyplot as plt\n",
    "import PIL\n",
    "import math\n",
    "from copy import deepcopy\n",
    "from collections import deque"
   ]
  },
  {
   "cell_type": "markdown",
   "id": "d7aa24b3",
   "metadata": {},
   "source": [
    "## Maximum flow problem\n",
    "\n",
    "### Motivation\n",
    "\n",
    "Let's say you want to send your friend some data as soon as possible, but the only way\n",
    "of communication/sending data between you two is through a peer-to-peer network. An\n",
    "interesting thing about this peer-to-peer network is that it allows you to send data\n",
    "along the paths you specify with certain limits on the sizes of data per second that\n",
    "you can send between a pair of nodes in this network."
   ]
  },
  {
   "cell_type": "code",
   "execution_count": null,
   "id": "4152918f",
   "metadata": {},
   "outputs": [],
   "source": [
    "G = nx.read_gml(\"data/example_graph.gml\")\n",
    "\n",
    "# Extract info about node position from graph (for visualization)\n",
    "pos = {k: np.asarray(v) for k, v in G.nodes(data=\"pos\")}\n",
    "label_pos = deepcopy(pos)\n",
    "label_pos[\"s\"][0] = -1.15\n",
    "label_pos[\"t\"][0] = 1.20\n",
    "labels = {\"s\": \"You\", \"t\": \"Friend\"}\n",
    "\n",
    "fig, ax = plt.subplots(figsize=(16, 8))\n",
    "nx.draw_networkx_edges(G, pos=pos, ax=ax, min_source_margin=20, min_target_margin=20)\n",
    "nx.draw_networkx_labels(G, label_pos, labels=labels, ax=ax, font_size=16)\n",
    "ax.set_xlim([-1.4, 1.4])\n",
    "ax.axis(\"off\")\n",
    "\n",
    "# Spruce up the image with computer icons to represent the nodes\n",
    "tr_figure = ax.transData.transform\n",
    "tr_axes = fig.transFigure.inverted().transform\n",
    "icon_size = abs(np.diff(ax.get_xlim())) * 0.015\n",
    "icon_center = icon_size / 2\n",
    "icon = PIL.Image.open(\"images/computer_black_144x144.png\")\n",
    "for n in G.nodes:\n",
    "    xf, yf = tr_figure(pos[n])\n",
    "    xa, ya = tr_axes((xf, yf))\n",
    "    a = plt.axes([xa - icon_center, ya - icon_center, icon_size, icon_size])\n",
    "    a.imshow(icon)\n",
    "    a.axis(\"off\")"
   ]
  },
  {
   "cell_type": "markdown",
   "id": "2ca3414c",
   "metadata": {},
   "source": [
    "So how shall you plan the paths of the data packets to send them in the least amount\n",
    "of time?\n",
    "\n",
    "Note that here we can divide the data into small data packets and send it across the\n",
    "network and the receiver will be able to rearrange the data packets to reconstruct\n",
    "the original data.\n",
    "\n",
    "### Formalization\n",
    "So how can we model this problem in terms of graphs?\n",
    "\n",
    "Let's say $N=(V, E)$ represents this peer-to-peer network with $V$ as the set of nodes\n",
    "where nodes are computers and $E$ as the set of edges where edge $uv \\in E$ if there is\n",
    "a connection from node $u$ to node $v$ across which we can send data. There are also\n",
    "2 special nodes, the first one is you (node $s$) and the second one is your friend (node $t$). We also name them the ***source*** and ***sink*** nodes respectively."
   ]
  },
  {
   "cell_type": "code",
   "execution_count": null,
   "id": "49bc6e0c",
   "metadata": {},
   "outputs": [],
   "source": [
    "fig, ax = plt.subplots(figsize=(16, 8))\n",
    "\n",
    "# Color source and sink node\n",
    "node_colors = [\"skyblue\" if n in {\"s\", \"t\"} else \"lightgray\" for n in G.nodes]\n",
    "\n",
    "# Draw graph\n",
    "nx.draw(G, pos, ax=ax, node_color=node_colors, with_labels=True)\n",
    "nx.draw_networkx_labels(G, label_pos, labels=labels, ax=ax, font_size=16)\n",
    "ax.set_xlim([-1.4, 1.4]);"
   ]
  },
  {
   "cell_type": "markdown",
   "id": "57fdca20",
   "metadata": {},
   "source": [
    "Now say that node $u$ and node $v$ are connected and the maximum data per second that\n",
    "you can send from node $u$ to node $v$ is $c_{uv}$ and let's call this the capacity of the edge $uv$."
   ]
  },
  {
   "cell_type": "code",
   "execution_count": null,
   "id": "84a59db6",
   "metadata": {},
   "outputs": [],
   "source": [
    "fig, ax = plt.subplots(figsize=(16, 8))\n",
    "\n",
    "# Label capacities\n",
    "capacities = {(u, v): c for u, v, c in G.edges(data=\"capacity\")}\n",
    "\n",
    "# Draw graph\n",
    "nx.draw(G, pos, ax=ax, node_color=node_colors, with_labels=True)\n",
    "nx.draw_networkx_edge_labels(G, pos, edge_labels=capacities, ax=ax)\n",
    "nx.draw_networkx_labels(G, label_pos, labels=labels, ax=ax, font_size=16)\n",
    "ax.set_xlim([-1.4, 1.4]);"
   ]
  },
  {
   "cell_type": "markdown",
   "id": "3662e29f",
   "metadata": {},
   "source": [
    "So before we go ahead and plan the paths on which we will be sending the data packets,\n",
    "we need some ways to represent or plan on the network. Observe that any plan will have\n",
    "to take up some capacity of the edges, so we can represent the plan by the values of\n",
    "the capacity taken by it for each edge in E, let's call the plan as **flow**. Formally,\n",
    "we can define flow as $f: E \\to \\mathbb{R}$ i.e. a mapping from edges $E$ to real numbers\n",
    "denoting that we are sending data at rate $f(uv)$ through edge $uv\\in E$.\n",
    "\n",
    "Note that for this plan to be a valid plan, it must satisfy the following constraints:\n",
    "* **Capacity constraint:**\n",
    "    The data rate at which we are sending data from any node shouldn't exceed its\n",
    "    capacity, formally $f_{uv} \\le c_{uv}$\n",
    "* **Conservation of flow:**\n",
    "    Rate at which data is sent to a node is same as the rate at which the node is sending\n",
    "    data to other nodes, except for the source $s$ and sink $t$ nodes. Formally\n",
    "    $\\sum\\limits_{u|(u,v) \\in E}f_{u,v} = \\sum\\limits_{w|(v,w) \\in E}f_{v,w} $ for\n",
    "    $v\\in V\\backslash \\{s,t\\}$"
   ]
  },
  {
   "cell_type": "code",
   "execution_count": null,
   "id": "523dffce",
   "metadata": {},
   "outputs": [],
   "source": [
    "def check_valid_flow(G, flow, source_node, target_node):\n",
    "    H = nx.DiGraph()\n",
    "    H.add_edges_from(flow.keys())\n",
    "\n",
    "    for (u, v), f in flow.items():\n",
    "        capacity = G[u][v][\"capacity\"]\n",
    "        H[u][v][\"label\"] = f\"{f}/{capacity}\"\n",
    "        # Capacity constraint\n",
    "        if f > G[u][v][\"capacity\"]:\n",
    "            H[u][v][\"edgecolor\"] = \"red\"\n",
    "            print(f\"Invalid flow: capacity constraint violated for edge ({u!r}, {v!r})\")\n",
    "        # Conservation of flow\n",
    "        if v not in {source_node, target_node}:\n",
    "            incoming_flow = sum(\n",
    "                flow[(i, v)] if (i, v) in flow else 0 for i in G.predecessors(v)\n",
    "            )\n",
    "            outgoing_flow = sum(\n",
    "                flow[(v, o)] if (v, o) in flow else 0 for o in G.successors(v)\n",
    "            )\n",
    "            if not math.isclose(incoming_flow, outgoing_flow):\n",
    "                print(f\"Invalid flow: flow conservation violated at node {v}\")\n",
    "                H.nodes[v][\"color\"] = \"red\"\n",
    "    return H\n",
    "\n",
    "\n",
    "def visualize_flow(flow_graph):\n",
    "    \"\"\"Visualize flow returned by the `check_valid_flow` funcion.\"\"\"\n",
    "    fig, ax = plt.subplots(figsize=(15, 9))\n",
    "\n",
    "    # Draw the full graph for reference\n",
    "    nx.draw(\n",
    "        G, pos, ax=ax, node_color=node_colors, edge_color=\"lightgrey\", with_labels=True\n",
    "    )\n",
    "\n",
    "    # Draw the example flow on top\n",
    "    flow_nc = [\n",
    "        \"skyblue\" if n in {\"s\", \"t\"} else flow_graph.nodes[n].get(\"color\", \"lightgrey\")\n",
    "        for n in flow_graph\n",
    "    ]\n",
    "    flow_ec = [flow_graph[u][v].get(\"edgecolor\", \"black\") for u, v in flow_graph.edges]\n",
    "    edge_labels = {(u, v): lbl for u, v, lbl in flow_graph.edges(data=\"label\")}\n",
    "    nx.draw(flow_graph, pos, ax=ax, node_color=flow_nc, edge_color=flow_ec)\n",
    "    nx.draw_networkx_edge_labels(G, pos, edge_labels=edge_labels, ax=ax);"
   ]
  },
  {
   "cell_type": "markdown",
   "id": "c25ae737",
   "metadata": {},
   "source": [
    "Example of valid flow:"
   ]
  },
  {
   "cell_type": "code",
   "execution_count": null,
   "id": "a86db409",
   "metadata": {},
   "outputs": [],
   "source": [
    "example_flow = {\n",
    "    (\"s\", \"a\"): 20,\n",
    "    (\"a\", \"e\"): 15,\n",
    "    (\"e\", \"i\"): 15,\n",
    "    (\"i\", \"t\"): 15,\n",
    "    (\"a\", \"h\"): 5,\n",
    "    (\"h\", \"l\"): 5,\n",
    "    (\"l\", \"t\"): 5,\n",
    "}\n",
    "\n",
    "flow_graph = check_valid_flow(G, example_flow, \"s\", \"t\")"
   ]
  },
  {
   "cell_type": "code",
   "execution_count": null,
   "id": "c77d612c",
   "metadata": {},
   "outputs": [],
   "source": [
    "visualize_flow(flow_graph)"
   ]
  },
  {
   "cell_type": "markdown",
   "id": "e8dfa14c",
   "metadata": {},
   "source": [
    "Example of invalid flow:"
   ]
  },
  {
   "cell_type": "code",
   "execution_count": null,
   "id": "a5ae2d68",
   "metadata": {},
   "outputs": [],
   "source": [
    "example_flow = {\n",
    "    (\"s\", \"a\"): 30,\n",
    "    (\"a\", \"e\"): 25,\n",
    "    (\"e\", \"i\"): 15,\n",
    "    (\"i\", \"t\"): 15,\n",
    "    (\"a\", \"h\"): 5,\n",
    "    (\"h\", \"l\"): 5,\n",
    "    (\"l\", \"t\"): 5,\n",
    "}\n",
    "\n",
    "flow_graph = check_valid_flow(G, example_flow, \"s\", \"t\")"
   ]
  },
  {
   "cell_type": "code",
   "execution_count": null,
   "id": "847cb523",
   "metadata": {},
   "outputs": [],
   "source": [
    "visualize_flow(flow_graph)"
   ]
  },
  {
   "cell_type": "markdown",
   "id": "6fbc0e0c",
   "metadata": {},
   "source": [
    "Red color edges don't satisfy capacity constraint and red color nodes don't satisfy the\n",
    "conservation of flow.\n",
    "\n",
    "*So if we use this plan/flow to send data then at what rate will we be sending the data to friend?*\n",
    "\n",
    "To answer this we need to observe that any data that the sink node $t$ will receive will be\n",
    "from its neighbors so if we sum over the data rates from plan/flow from those neighbors to\n",
    "the sink node we shall get the total data rate at which $t$ will be receiving the data.\n",
    "Formally we can say that the **value of the flow** is $|f|=\\sum\\limits_{u|(u,t) \\in E}f_{u,t}$.\n",
    "Also note that since flow is conservative $|f|$ would also be equal to $\\sum\\limits_{u|(s,u) \\in E}f_{s,u}$.\n",
    "\n",
    "Remember our goal was to maximize the rate at which the data is being sent to our friend,\n",
    "which is the same as maximizing the flow value $|f|$.\n",
    "\n",
    "This is the definition of the **Maximum Flow Problem**.\n",
    "\n",
    "## Dinitz's algorithm\n",
    "\n",
    "Before understanding how Dinitz's algorithm works and its steps let's define some terms.\n",
    "\n",
    "### Residual Capacity & Graph\n",
    "If we send $f_{uv}$ flow through edge $uv$ with capacity $c_{uv}$, then we define residual\n",
    "capacity by $g_{uv}=c_{uv}-f_{uv}$ and residual network by $N'$ which only considers the\n",
    "edges of $N$ if they have non-zero residual capacity."
   ]
  },
  {
   "cell_type": "code",
   "execution_count": null,
   "id": "6b466ea4",
   "metadata": {},
   "outputs": [],
   "source": [
    "def residual_graph(G, flow):\n",
    "    H = G.copy()\n",
    "    for (u, v), f in flow.items():\n",
    "        capacity = G[u][v][\"capacity\"]\n",
    "        if f > G[u][v][\"capacity\"]:\n",
    "            raise ValueError(f\"Flow {f} exceeds the capacity of edge {u!r}->{v!r}.\")\n",
    "        H[u][v][\"capacity\"] -= f\n",
    "        if H.has_edge(v, u):\n",
    "            H[v][u][\"capacity\"] += f\n",
    "        else:\n",
    "            H.add_edge(v, u, capacity=f, etype=\"rev\")\n",
    "    return H\n",
    "\n",
    "\n",
    "def draw_residual_graph(R, ax=None):\n",
    "    \"\"\"Visualize residual graph returned by `residual_graph`.\"\"\"\n",
    "    if not ax:\n",
    "        fig, ax = plt.subplots(figsize=(15, 9))\n",
    "        ax.axis(\"off\")\n",
    "\n",
    "    # Draw nodes\n",
    "    nx.draw_networkx_nodes(R, pos, node_color=node_colors)\n",
    "    nx.draw_networkx_labels(R, pos)\n",
    "\n",
    "    # Categorize edges by their capacity and whether they were added by\n",
    "    # residual_graph\n",
    "    orig_edges, zero_edges, rev_edges = [], [], []\n",
    "    for u, v, data in R.edges(data=True):\n",
    "        if data.get(\"etype\") == \"rev\":\n",
    "            rev_edges.append((u, v))\n",
    "        elif data[\"capacity\"] == 0:\n",
    "            zero_edges.append((u, v))\n",
    "        else:\n",
    "            orig_edges.append((u, v))\n",
    "\n",
    "    # Draw edges\n",
    "    nx.draw_networkx_edges(R, pos, edgelist=orig_edges)\n",
    "    nx.draw_networkx_edges(\n",
    "        R,\n",
    "        pos,\n",
    "        edgelist=rev_edges,\n",
    "        edge_color=\"goldenrod\",\n",
    "        connectionstyle=\"arc3,rad=0.2\",\n",
    "    )\n",
    "    nx.draw_networkx_edges(\n",
    "        R, pos, edgelist=zero_edges, style=\"--\", edge_color=\"lightgrey\"\n",
    "    )\n",
    "\n",
    "    # Label edges by capacity\n",
    "    rv = set(rev_edges)\n",
    "    fwd_caps = {(u, v): c for u, v, c in R.edges(data=\"capacity\") if (u, v) not in rv}\n",
    "    rev_caps = {(u, v): c for u, v, c in R.edges(data=\"capacity\") if (u, v) in rv}\n",
    "    nx.draw_networkx_edge_labels(R, pos, edge_labels=fwd_caps, label_pos=0.667)\n",
    "    nx.draw_networkx_edge_labels(\n",
    "        R, pos, edge_labels=rev_caps, label_pos=0.667, font_color=\"goldenrod\"\n",
    "    )"
   ]
  },
  {
   "cell_type": "markdown",
   "id": "8e6ad3b7",
   "metadata": {},
   "source": [
    "Example flow:"
   ]
  },
  {
   "cell_type": "code",
   "execution_count": null,
   "id": "c1408b73",
   "metadata": {},
   "outputs": [],
   "source": [
    "example_flow = {\n",
    "    (\"s\", \"a\"): 15,\n",
    "    (\"a\", \"e\"): 15,\n",
    "    (\"e\", \"i\"): 15,\n",
    "    (\"i\", \"t\"): 15,\n",
    "}\n",
    "\n",
    "visualize_flow(check_valid_flow(G, example_flow, \"s\", \"t\"))"
   ]
  },
  {
   "cell_type": "markdown",
   "id": "9ba975de",
   "metadata": {},
   "source": [
    "This is the residual network for the flow shown above:"
   ]
  },
  {
   "cell_type": "code",
   "execution_count": null,
   "id": "9490973e",
   "metadata": {},
   "outputs": [],
   "source": [
    "R = residual_graph(G, example_flow)\n",
    "draw_residual_graph(R)"
   ]
  },
  {
   "cell_type": "markdown",
   "id": "9ff69796",
   "metadata": {},
   "source": [
    "Note: In residual network we consider both the $uv$ and $vu$ edges if any of them is in $N$\n",
    "### Level Network\n",
    "\n",
    "The level network is a subgraph of the residual network which we get when we apply\n",
    "[BFS](https://en.wikipedia.org/wiki/Breadth-first_search) from source node $s$\n",
    "considering only the edges for which we have $c_{uv}-f_{uv}>0$ in the residual network\n",
    "and divide the nodes into levels then we only consider the edges to be in the level\n",
    "network $L$ which connect nodes of 2 different levels"
   ]
  },
  {
   "cell_type": "code",
   "execution_count": null,
   "id": "08591bc3",
   "metadata": {},
   "outputs": [],
   "source": [
    "# Mapping between node level and color for visualization\n",
    "level_colors = {\n",
    "    1: \"aqua\",\n",
    "    2: \"lightgreen\",\n",
    "    3: \"yellow\",\n",
    "    4: \"orange\",\n",
    "    5: \"lightpink\",\n",
    "    6: \"violet\",\n",
    "}\n",
    "\n",
    "\n",
    "def level_bfs(R, flow, source_node, target_node):\n",
    "    \"\"\"BFS to construct the level network from residual network for given flow.\"\"\"\n",
    "    parents, level = {}, {}\n",
    "    queue = deque([source_node])\n",
    "    level[source_node] = 0\n",
    "    while queue:\n",
    "        if target_node in parents:\n",
    "            break\n",
    "        u = queue.popleft()\n",
    "        for v in R.successors(u):\n",
    "            if (v not in parents) and (R[u][v][\"capacity\"] > 0):\n",
    "                parents[v] = u\n",
    "                level[v] = level[u] + 1\n",
    "                queue.append(v)\n",
    "    return parents, level\n",
    "\n",
    "\n",
    "def draw_level_network(R, parents, level, background=False):\n",
    "    fig, ax = plt.subplots(figsize=(15, 9))\n",
    "    ax.axis(\"off\")\n",
    "\n",
    "    # Draw nodes\n",
    "    nodelist = list(level.keys())\n",
    "    if background:\n",
    "        level_nc = \"lightgrey\"\n",
    "    else:\n",
    "        level_nc = [level_colors[l] for l in level.values()]\n",
    "        level_nc[0] = level_nc[-1] = \"skyblue\"\n",
    "    nx.draw_networkx_nodes(R, pos, nodelist=nodelist, node_color=level_nc)\n",
    "    if not background:\n",
    "        nx.draw_networkx_labels(R, pos)\n",
    "\n",
    "    # Draw edges\n",
    "    fwd_edges = [(v, u) for u, v in parents.items() if (v, u) in G.edges]\n",
    "    labels = {(u, v): R[u][v][\"capacity\"] for u, v in fwd_edges}\n",
    "    ec = \"lightgrey\" if background else \"black\"\n",
    "    nx.draw_networkx_edges(R, pos, edgelist=fwd_edges, edge_color=ec)\n",
    "    if not background:\n",
    "        nx.draw_networkx_edge_labels(R, pos, edge_labels=labels, label_pos=0.667)\n",
    "\n",
    "    rev_edges = [(v, u) for u, v in parents.items() if (v, u) not in G.edges]\n",
    "    labels = {(u, v): R[u][v][\"capacity\"] for u, v in rev_edges}\n",
    "    ec = \"lightgrey\" if background else \"goldenrod\"\n",
    "    nx.draw_networkx_edges(\n",
    "        R, pos, edgelist=rev_edges, connectionstyle=\"arc3,rad=0.2\", edge_color=ec\n",
    "    )\n",
    "    if not background:\n",
    "        nx.draw_networkx_edge_labels(\n",
    "            R, pos, edge_labels=labels, label_pos=0.667, font_color=\"goldenrod\"\n",
    "        )"
   ]
  },
  {
   "cell_type": "code",
   "execution_count": null,
   "id": "615495cc",
   "metadata": {},
   "outputs": [],
   "source": [
    "parents, level = level_bfs(R, example_flow, \"s\", \"t\")\n",
    "draw_level_network(R, parents, level)"
   ]
  },
  {
   "cell_type": "markdown",
   "id": "6fde93de",
   "metadata": {},
   "source": [
    "Note that if sink node $t$ is not reachable from the source node $s$ that means that no\n",
    "more flow can be pushed through the residual network.\n",
    "\n",
    "### Augmenting Path & Flow\n",
    "\n",
    "An *augmenting path* $P$ is a path from source node $s$ to sink node $t$ such that all\n",
    "the edges on the path have positive residual capacity i.e. $g_{uv}>0$ for $uv \\in P$.\n",
    "An *augmenting flow* $\\alpha$ for the path $P$ is the minimum value of the residual\n",
    "flow across all the edges of $P$. i.e. $\\alpha = min\\{g_{uv}, uv \\in P\\}$.\n",
    "\n",
    "And by augmenting the flow along path $P$ we mean that reduce the residual capacities\n",
    "of the edges in path $P$ by $\\alpha$ which will leave at least one of the edges on the\n",
    "residual network with zero residual capacity.\n",
    "\n",
    "We find augmenting paths by applying [DFS](https://en.wikipedia.org/wiki/Depth-first_search)\n",
    "on the Level network $L$."
   ]
  },
  {
   "cell_type": "code",
   "execution_count": null,
   "id": "c869f09b",
   "metadata": {},
   "outputs": [],
   "source": [
    "def aug_path_dfs(parents, flow, source_node, target_node):\n",
    "    \"\"\"Build a path using DFS starting from the target_node\"\"\"\n",
    "    path = []\n",
    "    u = target_node\n",
    "    f = 3 * max(flow.values())  # Initialize flow to large value\n",
    "    while u != source_node:\n",
    "        path.append(u)\n",
    "        v = parents[u]\n",
    "        f = min(f, R.pred[u][v][\"capacity\"] - flow.get((u, v), 0))\n",
    "        u = v\n",
    "    path.append(source_node)\n",
    "    # Augment the flow along the path found\n",
    "    return path, f"
   ]
  },
  {
   "cell_type": "markdown",
   "id": "ee3db249",
   "metadata": {},
   "source": [
    "Augmenting path before augmenting:"
   ]
  },
  {
   "cell_type": "code",
   "execution_count": null,
   "id": "c608cce6",
   "metadata": {},
   "outputs": [],
   "source": [
    "path, min_resid_flow = aug_path_dfs(parents, example_flow, \"s\", \"t\")\n",
    "\n",
    "# Visualize\n",
    "draw_level_network(R, parents, level, background=True)  # Level graph in the background\n",
    "nc = [level_colors[level[n]] for n in path]\n",
    "el = [(v, u) for u, v in nx.utils.pairwise(path)]\n",
    "nx.draw(R, pos, nodelist=path, edgelist=el, node_color=nc, with_labels=True)\n",
    "edgelabels = {(u, v): R[u][v][\"capacity\"] for u, v in el}\n",
    "nx.draw_networkx_edge_labels(R, pos, edge_labels=edgelabels, label_pos=0.667);"
   ]
  },
  {
   "cell_type": "markdown",
   "id": "7f77868c",
   "metadata": {},
   "source": [
    "Augmenting path after augmenting:"
   ]
  },
  {
   "cell_type": "code",
   "execution_count": null,
   "id": "05a102c9",
   "metadata": {},
   "outputs": [],
   "source": [
    "# Apply the minimum flow along the augmenting path\n",
    "aug_flow = {(v, u): min_resid_flow for u, v in nx.utils.pairwise(path)}\n",
    "\n",
    "# Visualize the augmented flow along the path\n",
    "draw_level_network(R, parents, level, background=True)\n",
    "aug_path = residual_graph(R.subgraph(path), aug_flow)\n",
    "\n",
    "# Node ordering in the subgraph can be different than `path`\n",
    "nodes = list(aug_path.nodes)\n",
    "node_colors = [level_colors[level[n]] for n in nodes]\n",
    "node_colors[nodes.index(\"s\")] = node_colors[nodes.index(\"t\")] = \"skyblue\"\n",
    "\n",
    "draw_residual_graph(aug_path, ax=plt.gca())"
   ]
  },
  {
   "cell_type": "markdown",
   "id": "3ce368fa",
   "metadata": {},
   "source": [
    "Resulting new residual Network:"
   ]
  },
  {
   "cell_type": "code",
   "execution_count": null,
   "id": "f793c08d",
   "metadata": {},
   "outputs": [],
   "source": [
    "R = residual_graph(R, aug_flow)\n",
    "\n",
    "# Original color scheme for residual graph\n",
    "node_colors = [\"skyblue\" if n in {\"s\", \"t\"} else \"lightgray\" for n in R.nodes]\n",
    "draw_residual_graph(R)"
   ]
  },
  {
   "cell_type": "markdown",
   "id": "ea1264b0",
   "metadata": {},
   "source": [
    "Each of the above steps plays a role in Dinitz's algorithm for finding the\n",
    "maximum flow in a network, summarized below.\n",
    "\n",
    "### Algorithm\n",
    "\n",
    "1. Initialize a flow with zero value, $f_{uv}=0$\n",
    "2. Construct a residual network  $N'$ from that flow\n",
    "3. Find the level network $L$ using BFS, if $t$ is not in the level network then break and\n",
    "output the flow\n",
    "4. Find an augmenting path $P$ in level network $L$\n",
    "5. Augment the flow along the edges of path $P$ which will give a new residual network\n",
    "6. Repeat from point 3 with new residual network $N'$\n",
    "\n",
    "## Maximum flow in NetworkX\n",
    "\n",
    "In the previous section, we decomposed the Dinitz's algorithm into smaller steps\n",
    "to better understand the algorithm as a whole.\n",
    "In practice however, there's no need to implement all these steps yourself!\n",
    "NetworkX provides an implementation of Dinitz's algorithm:\n",
    "[nx.flow.dinitz](https://networkx.org/documentation/latest/reference/algorithms/generated/networkx.algorithms.flow.dinitz.html).\n",
    "`nx.flow.dinitz` includes several features in addition to those described above.\n",
    "For example, the `cutoff` keyword argument can be used to prematurely terminate\n",
    "the Dinitz's algorithm once the desired flow value is reached.\n",
    "\n",
    "Let's try out NetworkX's implementation of Dinitz's algorithm on our example\n",
    "network, `G`."
   ]
  },
  {
   "cell_type": "code",
   "execution_count": null,
   "id": "d76798df",
   "metadata": {},
   "outputs": [],
   "source": [
    "# Maximum flow values to find. Note the final value of `None` which indicates\n",
    "# the algorithm should run to completion, finding the true maximum flow\n",
    "cutoff_list = [5, 10, 15, 20, 25, 30, 35, None]\n",
    "\n",
    "fig, axes = plt.subplots(4, 2, figsize=(20, 30))\n",
    "node_colors = [\"skyblue\" if n in {\"s\", \"t\"} else \"lightgray\" for n in G.nodes]\n",
    "\n",
    "for cutoff, ax in zip(cutoff_list, axes.ravel()):\n",
    "    # calculating the maximum flow with the cutoff value\n",
    "    R = nx.flow.dinitz(G, s=\"s\", t=\"t\", capacity=\"capacity\", cutoff=cutoff)\n",
    "\n",
    "    # coloring and labeling edges depending on if they have non-zero flow value or not\n",
    "    edge_colors = [\"lightgray\" if R[u][v][\"flow\"] == 0 else \"black\" for u, v in G.edges]\n",
    "    edge_labels = {\n",
    "        (u, v): f\"{R[u][v]['flow']}/{G[u][v]['capacity']}\"\n",
    "        for u, v in G.edges\n",
    "        if R[u][v][\"flow\"] != 0\n",
    "    }\n",
    "\n",
    "    # drawing the network\n",
    "    nx.draw_networkx_nodes(G, pos=pos, ax=ax, node_size=500, node_color=node_colors)\n",
    "    nx.draw_networkx_labels(G, pos=pos, ax=ax, font_size=14)\n",
    "    nx.draw_networkx_edges(G, pos=pos, ax=ax, edge_color=edge_colors)\n",
    "    nx.draw_networkx_edge_labels(\n",
    "        G, pos=pos, ax=ax, edge_labels=edge_labels, font_size=14\n",
    "    )\n",
    "    ax.set_title(\n",
    "        f\"Cutoff value = {cutoff}; Max Flow = {R.graph['flow_value']}\",\n",
    "        size=22,\n",
    "    )\n",
    "\n",
    "fig.tight_layout()"
   ]
  },
  {
   "cell_type": "markdown",
   "id": "0984d1d8",
   "metadata": {},
   "source": [
    "Note: Iteration are stopped if the maximum flow found so far exceeds the cutoff value\n",
    "## Applications\n",
    "There are many other problems which can be reduced to Maximum flow problem, for example:\n",
    "* [Maximum Bipartite Matching](https://en.wikipedia.org/wiki/Matching_(graph_theory))\n",
    "* [Assignment Problem](https://en.wikipedia.org/wiki/Assignment_problem)\n",
    "* [Transportation Problem](https://en.wikipedia.org/wiki/Transportation_theory_(mathematics))\n",
    "\n",
    "and many others.\n",
    "\n",
    "Note that even though Dinitz works in $O(n^2m)$ strongly polynomial time, i.e. to say it\n",
    "doesn't depend on the value of flow. It is noteworthy that its performance of bipartite\n",
    "graphs is especially fast being $O(\\sqrt n m)$ time, where $n = |V|$ & $m = |E|$.\n",
    "\n",
    "Let's consider the example of shipping packages from warehouse to customers through some\n",
    "intermediate shipping points, and we can only ship limited number of packages through\n",
    "an intermediate shipping point in a day.\n",
    "\n",
    "So how to assign intermediate shipping point to customer so that maximum number of\n",
    "packages are shipped in a day?\n",
    "\n",
    "![image:shipping problem eg](images/shipping-problem.png)\n",
    "\n",
    "Number below each intermediate shipping point is the maximum number of shipping that\n",
    "it can do in a day, and if edge connects an intermdiate shipping point and a customer\n",
    "only then we can send the package from that shipping point to that customer.\n",
    "\n",
    "Note that the warehouse node is named as $W$, intermediate shipping points as\n",
    "$lw1, lw2, lw3$, and customers as $c1,c2...c20$."
   ]
  },
  {
   "cell_type": "code",
   "execution_count": null,
   "id": "9e5c2fef",
   "metadata": {},
   "outputs": [],
   "source": [
    "# Load data\n",
    "B = nx.read_gml(\"data/shipping_graph.gml\")\n",
    "pos = {k: np.asarray(v) for k, v in B.nodes(data=\"pos\")}\n",
    "\n",
    "# drawing the loaded graph\n",
    "node_colors = [\"skyblue\" if u == \"W\" else \"lightgray\" for u in B.nodes]\n",
    "plt.figure(figsize=(20, 10))\n",
    "nx.draw(\n",
    "    B, pos=pos, node_color=node_colors, with_labels=True, arrowsize=10, node_size=800\n",
    ")"
   ]
  },
  {
   "cell_type": "code",
   "execution_count": null,
   "id": "1010dddc",
   "metadata": {},
   "outputs": [],
   "source": [
    "# maximum shipping capacities\n",
    "{u: B.nodes[u][\"maximum_shippings\"] for u in [\"lw1\", \"lw2\", \"lw3\"]}"
   ]
  },
  {
   "cell_type": "markdown",
   "id": "ad44c47a",
   "metadata": {},
   "source": [
    "Let's add a pseudo node $T$ denoting the ultimate sink node and add edges from\n",
    "$ci \\to T$, $i\\in\\{1,2,...,20\\}$. Note that shipping any more than the maximum\n",
    "number of packages that any of $lwi$, $i\\in\\{1,2,3\\}$ can ship on that day is useless.\n",
    "So we can transfer that maximum number of shipping to a maximum capacity of the\n",
    "edges $W\\to lwi$, $i\\in\\{1,2,3\\}$ and for all other edges, we can assign its capacity\n",
    "as 1 we only need to do one shipment per customer.\n",
    "\n",
    "Note: We have already assigned the position to node $T$ in `pos` which was loaded earlier."
   ]
  },
  {
   "cell_type": "code",
   "execution_count": null,
   "id": "42332528",
   "metadata": {},
   "outputs": [],
   "source": [
    "# adding node T and edges to T from c1,c2,...c20\n",
    "B.add_node(\"T\")\n",
    "pos[\"T\"] = np.array([0.97, 0.0])\n",
    "B.add_edges_from((f\"c{i}\", \"T\") for i in range(1, 21))\n",
    "\n",
    "# adding capacities from W to lw1, lw2, lw3\n",
    "for u in [\"lw1\", \"lw2\", \"lw3\"]:\n",
    "    B[\"W\"][u][\"capacity\"] = B.nodes[u][\"maximum_shippings\"]\n",
    "\n",
    "# adding capacities as 1 for all other edges except edges from W\n",
    "for u, v in B.edges:\n",
    "    if u != \"W\":\n",
    "        B[u][v][\"capacity\"] = 1"
   ]
  },
  {
   "cell_type": "code",
   "execution_count": null,
   "id": "60b75fcf",
   "metadata": {},
   "outputs": [],
   "source": [
    "# assign colors and labels to nodes based on their type\n",
    "node_colors = [\"skyblue\" if u in {\"W\", \"T\"} else \"lightgray\" for u in B.nodes]\n",
    "\n",
    "# calculating the maximum flow with the cutoff value\n",
    "R = nx.flow.dinitz(B, s=\"W\", t=\"T\", capacity=\"capacity\")\n",
    "\n",
    "# coloring and labeling edges depending on if they have non-zero flow value or not\n",
    "edge_colors = [\"0.8\" if R[u][v][\"flow\"] == 0 else \"0\" for u, v in B.edges]\n",
    "\n",
    "# drawing the network\n",
    "plt.figure(figsize=(20, 10))\n",
    "nx.draw_networkx_nodes(B, pos=pos, node_size=400, node_color=node_colors)\n",
    "nx.draw_networkx_labels(B, pos=pos, font_size=8)\n",
    "nx.draw_networkx_edges(B, pos=pos, edge_color=edge_colors)\n",
    "plt.title(f\"Max Flow = {R.graph['flow_value']}\", size=12)\n",
    "plt.axis(\"off\")\n",
    "plt.show()"
   ]
  },
  {
   "cell_type": "markdown",
   "id": "0c6d4ee8",
   "metadata": {},
   "source": [
    "Above we can see a matching of intermediate shipping points and customers which\n",
    "gives the maximum shipping in a day.\n",
    "\n",
    "## References\n",
    "[^1]: [Wikipedia, Maximal Flow Problem](https://en.wikipedia.org/wiki/Maximum_flow_problem)\n",
    "\n",
    "[^2]: Dinitz' Algorithm: The Original Version and Even's Version. 2006. Yefim Dinitz.\n",
    "In Theoretical Computer Science. Lecture Notes in Computer Science.\n",
    "Volume 3895. pp 218-240. <https://doi.org/10.1007/11685654_10>"
   ]
  }
 ],
 "metadata": {
  "jupytext": {
   "notebook_metadata_filter": "all"
  },
  "kernelspec": {
   "display_name": "Python 3 (ipykernel)",
   "language": "python",
   "name": "python3"
  },
  "language_info": {
   "codemirror_mode": {
    "name": "ipython",
    "version": 3
   },
   "file_extension": ".py",
   "mimetype": "text/x-python",
   "name": "python",
   "nbconvert_exporter": "python",
   "pygments_lexer": "ipython3",
   "version": "3.10.1"
  }
 },
 "nbformat": 4,
 "nbformat_minor": 5
}
