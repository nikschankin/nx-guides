{
 "cells": [
  {
   "cell_type": "markdown",
   "id": "a2736b11",
   "metadata": {},
   "source": [
    "Welcome to nx-guides!\n",
    "=====================\n",
    "\n",
    "[![Binder](https://mybinder.org/badge_logo.svg)][launch_binder]\n",
    "\n",
    "[launch_binder]: https://mybinder.org/v2/gh/networkx/nx-guides/main?urlpath=lab/tree/content\n",
    "\n",
    "This site provides educational materials officially developed and curated by the\n",
    "NetworkX community.\n",
    "The goal of the repository is to provide high-quality educational resources\n",
    "for learning about network analysis and graph theory with NetworkX.\n",
    "Examples include:\n",
    " - Long-form narrative documentation, such as tutorials\n",
    " - In-depth examinations of common graph and network algorithms and their\n",
    "   implementations in NetworkX\n",
    " - Demonstrations or domain-specific applications of NetworkX highlighting\n",
    "   best-practices for network analysis.\n",
    "\n",
    "## About\n",
    "\n",
    "The educational materials are in the form of\n",
    "[markdown-based Jupyter notebooks][myst-nb], so everything is interactive!\n",
    "You can follow along yourself:\n",
    " 1. *on binder*, by clicking on the launch button at the top of this page, or the\n",
    "    rocket icon in the upper-right corner of any of the pages, or\n",
    " 2. *locally*, by cloning the repository (see the octocat icon above) and\n",
    "    running `jupyter notebook`.\n",
    "\n",
    "[myst-nb]: https://myst-nb.readthedocs.io/en/latest/authoring/text-notebooks.html\n",
    "\n",
    "## Contents\n",
    "\n",
    "```{toctree}\n",
    "---\n",
    "maxdepth: 1\n",
    "---\n",
    "\n",
    "content/algorithms/index\n",
    "content/generators/index\n",
    "content/exploratory_notebooks/facebook_notebook\n",
    "content/contributing\n",
    "```\n"
   ]
  }
 ],
 "metadata": {
  "jupytext": {
   "cell_metadata_filter": "-all",
   "main_language": "python",
   "notebook_metadata_filter": "-all"
  }
 },
 "nbformat": 4,
 "nbformat_minor": 5
}
