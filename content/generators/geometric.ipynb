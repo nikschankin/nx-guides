{
 "cells": [
  {
   "cell_type": "markdown",
   "id": "ccb50357",
   "metadata": {},
   "source": [
    "# Geometric Generator Models\n",
    "\n",
    "In this tutorial, we'll explore the geometric network generator models\n",
    "implemented under [`networkx/generators/geometric.py`](https://github.com/networkx/networkx/blob/main/networkx/generators/geometric.py) and apply them\n",
    "to a real-world use case to learn how these models can be parameterized and used.\n",
    "\n",
    "## Import packages"
   ]
  },
  {
   "cell_type": "code",
   "execution_count": null,
   "id": "fe4e5077",
   "metadata": {},
   "outputs": [],
   "source": [
    "%matplotlib inline\n",
    "import numpy as np\n",
    "import matplotlib.pyplot as plt\n",
    "import networkx as nx"
   ]
  },
  {
   "cell_type": "markdown",
   "id": "388c5704",
   "metadata": {},
   "source": [
    "## Geometric/Spatial Networks\n",
    "\n",
    "Many real-world complex systems have spatial components constraining the\n",
    "network structures these types of systems can produce.\n",
    "Infrastructure networks such as transportation, electrical, and\n",
    "telecommunication systems, social networks and even our own synaptic networks\n",
    "are all embedded in physical space.\n",
    "Spatial Networks provide a framework for network models having spacial elements\n",
    "where nodes are embedded in space and a metric is incorporated that dictates\n",
    "the conditions for connection between nodes.\n",
    "Typically, the probability of connection is a decreasing function of the\n",
    "metric, with most models assuming Euclidean distance in 2-dimensions or 3-dimensions.\n",
    "The intuition of most Spatial Network models propose that there exists an\n",
    "increasing cost of connection between nodes that are further apart, though\n",
    "arbitrary connection probability functions can be modeled.\n",
    "\n",
    "The potential application of Spatial Networks to such a wide variety of\n",
    "real-world systems has motivated substainial research into these networks,\n",
    "with many unique but closely related models being proposed with theoretical\n",
    "proofs for many of their network properties.\n",
    "The 2010 Spatial Networks review article by Marc Barthélemy [^1] provides a\n",
    "comprehensive overview of the field and reviews many of the most important\n",
    "theoretical proofs for the most common Spatial Network models.\n",
    "Here we explore some of the most typical Spatial Network models which have been\n",
    "implemented in the networkx package.\n",
    "These models can be classified using only three model parameters used by these\n",
    "different models:\n",
    "\n",
    "\n",
    " - $R$ - The maximum connection distance, the `radius` parameter in networkx\n",
    " - $P(d_{ij})$ - The probability of edge connection as a function of the\n",
    "   distance, $d_{ij}$, between nodes $i, j$ where $i \\neq j$, the `p_dist`\n",
    "   parameter in networkx\n",
    " - $\\theta$ - The node weight threshold for connection, the `theta` parameter\n",
    "   in networkx\n",
    "\n",
    "Typically, nodes are uniformly distributed onto the unit square and node weights\n",
    "are sampled from some weight distribution.\n",
    "Distance, $d_{ij}$ is typically assumed to be the Euclidean distance,\n",
    "but some networkx models allow custom metrics where others only allow Minkowski\n",
    "distance metrics.\n",
    "\n",
    "The figure below shows the relationships between Spatial Network Models\n",
    "connected by their shared parameterization.\n",
    "\n",
    "![spatial_networks](images/spatial_networks.png \"Spatial Networks\")\n",
    "\n",
    "### Individual Model Definitions\n",
    "\n",
    "This section summarizes the various models. The notation $E_{ij}$\n",
    "indicates an edges exists between nodes $i$ and $j$.\n",
    "\n",
    "#### Random Geometric Graphs ($R$)\n",
    "\n",
    "A d-dimensional Random Geometric Graph (RGG) is a graph where each of the $N$\n",
    "nodes is assigned random coordinates in the box $[0, 1]^{d}$, and only\n",
    "nodes \"close\" to each other are connected by an edge [^2].\n",
    "Any node within or equal to the maximum connection distance, $R$, is a connected\n",
    "node and the structure of the network is fully defined by $R$.\n",
    "RGGs, similar to Unit Disk Graphs [^3],  have been widely used to model ad-hoc\n",
    "wireless networks.\n",
    "\n",
    "$$ E_{ij}: d_{ij} \\leq R $$\n",
    "\n",
    "#### Waxman Graphs ($\\alpha$)\n",
    "\n",
    "Waxman Graphs are the spatial generalization of Erdős–Rényi random graphs, where the\n",
    "probability of connection of nodes depends on a function of the distance between them[^4].\n",
    "The original edge probabiliy function proposed by Waxman is exponential in\n",
    "$d_{ij}$, providing two connection probability tuning parameters, $\\alpha$ and $\\beta$:\n",
    "\n",
    "$$ P(d_{ij}) = \\beta e^{\\frac{-d_{ij}}{L \\alpha}} $$ \n",
    "\n",
    "Where $L$ is the maximum distance between each pair of nodes.\n",
    "\n",
    "The shape of the edge probabiliy function, $P(d_{ij})$, plays the key role\n",
    "in determining the structure of a Waxman graph, but characterization of\n",
    "$P(d_{ij})$ in real-world networks still seems controversial.\n",
    "The most commonly studied functional families are the orginal exponential above,\n",
    "or power laws, $-{d_{ij}}^{-\\alpha}$.\n",
    "\n",
    "$$ E_{ij} \\propto P(d_{ij}) $$\n",
    "\n",
    "#### Threshold Graphs ($\\theta$)\n",
    "\n",
    "A simple graph G is a threshold graph if we can assign weights to the vertices\n",
    "such that a pair of distinct vertices is adjacent exactly when the sum of their\n",
    "assigned weights equals or exceeds a specified threshold, $\\theta$ [^6].\n",
    "Threshold Graphs are not themselves Spatial Networks, as they do not incorporate\n",
    "a specific geometry or metric, but they introduce the ability to consider node\n",
    "weights as part of the network model which is utilized by other Spatial Network\n",
    "models such as Geometric Threshold Graphs.\n",
    "\n",
    "$$ E_{ij}: (w_i + w_j) \\geq \\theta $$\n",
    "\n",
    "#### Geographical Threshold Graphs ($P(d_{ij}), \\theta$)\n",
    "\n",
    "Geographical Threshold Graphs are the geographical generalization of Threshold\n",
    "Graphs, where a pair of vertices with weights $w_i, w_j$,\n",
    "and distance $d_{ij}$ are connected if and only if the product between\n",
    "the sum of weights  $w_i$ and $w_j$ with the edge connection\n",
    "function, $P(d_{ij})$, is greater than or equal to a threshold value, $\\theta$. [^8]\n",
    "\n",
    "$$ E_{ij}: (w_i + w_j) P(d_{ij}) \\geq \\theta $$\n",
    "\n",
    "#### Soft Random Geometric Graphs ($R, P(d_{ij})$)\n",
    "\n",
    "A recent extention of Random Geometric Graphs couples the influence of distance\n",
    "between nodes that are within the maximum connection distance, $R$, to better model\n",
    "real-world systems where node proximity does not necessarily guarantee a\n",
    "connection between \"close\" nodes.\n",
    "In Soft Random Geometric Graphs, the probability  of connection between nodes $i$\n",
    "and $j$ is a function of their distance, $d_{ij}, if $d_{ij} \\leq R$.\n",
    "Otherwise, they are disconnected [^7].\n",
    "\n",
    "$$ E_{ij} \\propto P(d_{ij}) \\textrm{ if } d_{ij} \\leq R $$\n",
    "\n",
    "#### Thresholded Random Geometric Graphs ($R, \\theta$)\n",
    "\n",
    "Thresholded Random Geometric Graphs extend RGGs to incorporate node weights into\n",
    "the model, where connections are only made between nodes with sufficiently\n",
    "powerful weights, up to a maximum connection distance between nodes [^9].\n",
    "\n",
    "$$ (w_i + w_j) \\geq \\theta \\textrm{ if } d_{ij} \\leq R $$\n",
    "\n",
    "### A Motivating Example\n",
    "\n",
    "For this tutorial, we'll use the Tesla North American Supercharger network to\n",
    "highlight how the various spatial network models implemented in networkx can\n",
    "be parameterized and used.\n",
    "\n",
    "![spatial_networks](images/NA-Supercharger_Network.jpg \"Tesla Supercharger Network\")\n",
    "\n",
    "The Supercharger data is obtained from supercharger.info, filtered for the\n",
    "Canadian and American Supercharger locations, totaling 385 Opened Superchargers\n",
    "as of April 2017.\n",
    "The collected data has been structured into a Networkx Graph which is made up of\n",
    "nested dictionaries keyed on the geohash of each Supercharger's GPS coordinates\n",
    "which have been converted into a projected embedding onto the unit square.\n",
    "Node weights are the population of cities for each Supercharger, as a percent\n",
    "of total North American population.\n",
    "With this dataset, we can model the supercharger network with the various spatial\n",
    "networks implemented in networkx."
   ]
  },
  {
   "cell_type": "code",
   "execution_count": null,
   "id": "df859307",
   "metadata": {},
   "outputs": [],
   "source": [
    "# Some matplotlib settings\n",
    "mpl_params = {\n",
    "    \"axes.titlesize\": 20,\n",
    "    \"figure.figsize\": (12, 4),\n",
    "}\n",
    "plt.rcParams.update(mpl_params)"
   ]
  },
  {
   "cell_type": "markdown",
   "id": "e2c12499",
   "metadata": {},
   "source": [
    "Next, we load the data and construct the graph."
   ]
  },
  {
   "cell_type": "code",
   "execution_count": null,
   "id": "2e738c52",
   "metadata": {},
   "outputs": [],
   "source": [
    "# from networkx.readwrite import json_graph\n",
    "import json\n",
    "\n",
    "# load json-ed networkx datafile\n",
    "with open(\"data/tesla_network.json\") as infile:\n",
    "    G = nx.json_graph.node_link_graph(json.load(infile))"
   ]
  },
  {
   "cell_type": "code",
   "execution_count": null,
   "id": "bd5c03aa",
   "metadata": {},
   "outputs": [],
   "source": [
    "print(G)"
   ]
  },
  {
   "cell_type": "code",
   "execution_count": null,
   "id": "6027b322",
   "metadata": {},
   "outputs": [],
   "source": [
    "# example node data structure keyed on geohash of GPS cords\n",
    "G.nodes[\"dr7k46ycwwb8\"]"
   ]
  },
  {
   "cell_type": "code",
   "execution_count": null,
   "id": "019e4fd2",
   "metadata": {},
   "outputs": [],
   "source": [
    "# extract pos and weight attributes for use in models\n",
    "nodes = G.nodes()\n",
    "pos = nx.get_node_attributes(G, \"pos\")\n",
    "weight = nx.get_node_attributes(G, \"weight\")"
   ]
  },
  {
   "cell_type": "markdown",
   "id": "7294d994",
   "metadata": {},
   "source": [
    "Since we'll be visualizing a lot of graphs, let's define some general\n",
    "plotting options for consistent visualizations."
   ]
  },
  {
   "cell_type": "code",
   "execution_count": null,
   "id": "d95b0bfa",
   "metadata": {},
   "outputs": [],
   "source": [
    "node_opts = {\"node_size\": 50, \"node_color\": \"r\", \"alpha\": 0.4}\n",
    "edge_opts = {\"edge_color\": \"k\"}"
   ]
  },
  {
   "cell_type": "markdown",
   "id": "3f2d2b22",
   "metadata": {},
   "source": [
    "## Random Geometric Graphs\n",
    "\n",
    "For RGGs, we see the impact of increasing the maximum connection distance\n",
    "parameter `radius` in increasing the number of connections."
   ]
  },
  {
   "cell_type": "code",
   "execution_count": null,
   "id": "c31f4e1b",
   "metadata": {},
   "outputs": [],
   "source": [
    "fig, axes = plt.subplots(2, 2, figsize=(12, 8))\n",
    "# Params for visualizing edges\n",
    "alphas = (0.8, 0.8, 0.3, 0.1)\n",
    "linewidths = (0.2, 0.2, 0.1, 0.1)\n",
    "\n",
    "radii = (0, 0.1, 0.2, 0.3)\n",
    "for r, ax, alpha, lw in zip(radii, axes.ravel(), alphas, linewidths):\n",
    "    RGG = nx.random_geometric_graph(nodes, radius=r, pos=pos)\n",
    "    nx.draw_networkx_nodes(G, pos=pos, ax=ax, **node_opts)\n",
    "    nx.draw_networkx_edges(RGG, pos=pos, ax=ax, alpha=alpha, width=lw, **edge_opts)\n",
    "    ax.set_title(f\"$r = {r}$, {RGG.number_of_edges()} edges\")\n",
    "fig.tight_layout()"
   ]
  },
  {
   "cell_type": "code",
   "execution_count": null,
   "id": "38c3cbbe",
   "metadata": {},
   "outputs": [],
   "source": [
    "# Make edge visualization more prominent (and consistent) for the following\n",
    "# examples\n",
    "edge_opts[\"alpha\"] = 0.8\n",
    "edge_opts[\"width\"] = 0.2"
   ]
  },
  {
   "cell_type": "markdown",
   "id": "cdd3caf1",
   "metadata": {},
   "source": [
    "## Geographical Threshold Graphs\n",
    "\n",
    "The GTG model allows for a wide range of custom parameters including custom node\n",
    "positioning, weights, and a metric between nodes and the probability of connection,\n",
    "$P(d_{ij})$.\n",
    "The default $P(d_{ij})$ model is the metric value, $r$, for the two connecting\n",
    "nodes raised to the $-\\alpha$ parameter, which has a default value of 2."
   ]
  },
  {
   "cell_type": "code",
   "execution_count": null,
   "id": "fee01c3c",
   "metadata": {},
   "outputs": [],
   "source": [
    "fig, axes = plt.subplots(1, 2)\n",
    "\n",
    "# Custom distance metric\n",
    "dist = lambda x, y: sum(abs(a - b) for a, b in zip(x, y))\n",
    "\n",
    "distance_metrics = {\n",
    "    \"Default (Euclidean) distance metric\": None,  # Euclidean distance\n",
    "    \"Custom distance metric\": dist,\n",
    "}\n",
    "\n",
    "for (name, metric), ax in zip(distance_metrics.items(), axes.ravel()):\n",
    "    GTG = nx.geographical_threshold_graph(\n",
    "        nodes, 0.1, pos=pos, weight=weight, metric=metric\n",
    "    )\n",
    "    nx.draw_networkx_nodes(G, pos=pos, ax=ax, **node_opts)\n",
    "    nx.draw_networkx_edges(GTG, pos=pos, ax=ax, **edge_opts)\n",
    "    ax.set_title(f\"{name}\\n{GTG.number_of_edges()} edges\")\n",
    "fig.tight_layout()"
   ]
  },
  {
   "cell_type": "code",
   "execution_count": null,
   "id": "19030719",
   "metadata": {},
   "outputs": [],
   "source": [
    "fig, axes = plt.subplots(1, 2)\n",
    "\n",
    "# Evaluate different p_dists\n",
    "import math\n",
    "from scipy.stats import norm\n",
    "\n",
    "p_dists = {\n",
    "    \"p_dist=Exponential\": lambda d: math.exp(-d),\n",
    "    \"p_dist=Normal\": norm(loc=0.1, scale=0.1).pdf,\n",
    "}\n",
    "\n",
    "for (name, p_dist), ax in zip(p_dists.items(), axes.ravel()):\n",
    "    GTG = nx.geographical_threshold_graph(\n",
    "        nodes, 0.01, pos=pos, weight=weight, metric=dist, p_dist=p_dist\n",
    "    )\n",
    "    nx.draw_networkx_nodes(G, pos=pos, ax=ax, **node_opts)\n",
    "    nx.draw_networkx_edges(GTG, pos=pos, ax=ax, **edge_opts)\n",
    "    ax.set_title(f\"{name}\\n{GTG.number_of_edges()} edges\")\n",
    "fig.tight_layout()"
   ]
  },
  {
   "cell_type": "markdown",
   "id": "bd9f26cc",
   "metadata": {},
   "source": [
    "## Soft Random Geometric Graphs\n",
    "\n",
    "SRGGs utilize the maximum connection distance parameter, $R$, of RGGs but provide\n",
    "the ability to input an arbitrary connection probability function, $P(d_{ij})$,\n",
    "for nodes within the maximum connection distance.\n",
    "The default $P(d_{ij})$ function for SRGGs in networkx is an exponential\n",
    "distribution with rate parameter `lambda=1`."
   ]
  },
  {
   "cell_type": "code",
   "execution_count": null,
   "id": "6059fbb5",
   "metadata": {},
   "outputs": [],
   "source": [
    "fig, axes = plt.subplots(1, 3)\n",
    "\n",
    "pdfs = {\n",
    "    \"default\": None,  # default: exponential distribution with `lambda=1`\n",
    "    r\"$e^{-10d}$\": lambda d: math.exp(-10 * d),\n",
    "    \"norm\": norm(loc=0.1, scale=0.1).pdf,\n",
    "}\n",
    "for (title, pdf), ax in zip(pdfs.items(), axes.ravel()):\n",
    "    SRGG = nx.soft_random_geometric_graph(nodes, 0.1, pos=pos, p_dist=pdf)\n",
    "    nx.draw_networkx_nodes(G, pos=pos, ax=ax, **node_opts)\n",
    "    nx.draw_networkx_edges(SRGG, pos=pos, ax=ax, **edge_opts)\n",
    "    ax.set_title(f\"p_dist={title}\\n{SRGG.number_of_edges()} edges\")\n",
    "fig.tight_layout()"
   ]
  },
  {
   "cell_type": "markdown",
   "id": "20ac568b",
   "metadata": {},
   "source": [
    "## Thresholded Random Geometric Graphs\n",
    "\n",
    "TRGGs allow for the coupling of the maximum connection distance and threshold parameters.\n",
    "The default weights for TRGG are drawn from an exponential distribution with\n",
    "rate parameter `lambda=1`."
   ]
  },
  {
   "cell_type": "code",
   "execution_count": null,
   "id": "0faf60fe",
   "metadata": {},
   "outputs": [],
   "source": [
    "fig, axes = plt.subplots(1, 2)\n",
    "\n",
    "# Increased threshold parameter, theta, reduces graph connectivity\n",
    "thresholds = (0.0001, 0.001)\n",
    "for thresh, ax in zip(thresholds, axes):\n",
    "    TRGG = nx.thresholded_random_geometric_graph(\n",
    "        nodes, 0.1, thresh, pos=pos, weight=weight\n",
    "    )\n",
    "    nx.draw_networkx_nodes(G, pos=pos, ax=ax, **node_opts)\n",
    "    nx.draw_networkx_edges(TRGG, pos=pos, ax=ax, **edge_opts)\n",
    "    ax.set_title(f\"Threshold = {thresh}, {TRGG.number_of_edges()} edges\")\n",
    "fig.tight_layout()"
   ]
  },
  {
   "cell_type": "markdown",
   "id": "eb69c10e",
   "metadata": {},
   "source": [
    "## References\n",
    "\n",
    "[^1]: Spatial Networks <https://doi.org/10.1016/j.physrep.2010.11.002>\n",
    "\n",
    "[^2]: Random Geometric Graphs <https://doi.org/10.1103/PhysRevE.66.016121>\n",
    "\n",
    "[^3]: Unit Disk Graphs <https://doi.org/10.1016/0012-365X(90)90358-O>\n",
    "\n",
    "[^4]: Waxman Graphs <https://doi.org/10.1109/49.12889>\n",
    "\n",
    "[^6]: Threshold Graphs - <https://doi.org/10.37236/219>\n",
    "\n",
    "[^7]: Soft Geometric Random Graphs - <https://doi.org/10.1214/15-AAP1110>\n",
    "\n",
    "[^8]: Geometric Threshold Graphs - <https://doi.org/10.1103/PhysRevE.71.036108>\n",
    "\n",
    "[^9]: Thresholded Random Geometric Graphs - <http://hdl.handle.net/2117/111425>"
   ]
  }
 ],
 "metadata": {
  "jupytext": {
   "notebook_metadata_filter": "all"
  },
  "kernelspec": {
   "display_name": "Python 3",
   "language": "python",
   "name": "python3"
  },
  "language_info": {
   "codemirror_mode": {
    "name": "ipython",
    "version": 3
   },
   "file_extension": ".py",
   "mimetype": "text/x-python",
   "name": "python",
   "nbconvert_exporter": "python",
   "pygments_lexer": "ipython3",
   "version": "3.7.4"
  }
 },
 "nbformat": 4,
 "nbformat_minor": 5
}
