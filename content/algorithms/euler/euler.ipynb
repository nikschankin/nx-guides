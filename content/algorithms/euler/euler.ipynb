{
 "cells": [
  {
   "cell_type": "markdown",
   "id": "57e2afad",
   "metadata": {},
   "source": [
    "# Euler's Algorithm"
   ]
  },
  {
   "cell_type": "markdown",
   "id": "ec41a5f7",
   "metadata": {},
   "source": [
    "In this tutorial, we will explore Euler's algorithm and its implementation in NetworkX under [`networkx/algorithms/euler.py`](https://github.com/networkx/networkx/blob/main/networkx/algorithms/euler.py).\n",
    "\n",
    "## Import package"
   ]
  },
  {
   "cell_type": "code",
   "execution_count": null,
   "id": "bb11294b",
   "metadata": {},
   "outputs": [],
   "source": [
    "import networkx as nx"
   ]
  },
  {
   "cell_type": "markdown",
   "id": "0dc61f48",
   "metadata": {},
   "source": [
    "## Seven Bridges of Königsberg\n",
    "\n",
    "What you are seeing below is the beautiful old town of Königsberg which is famous for its seven bridges. Each of these bridges either connect two large islands — Kneiphof and Lomse — or two mainland portions of the city.\n",
    "\n",
    "![image:map](images/map.png)\n",
    "\n",
    "What gave the town its fame is a question that was asked to mathematician Leonhard Euler almost 300 years ago [^1]:\n",
    "\n",
    "> ***Can you take a walk through Königsberg visiting each mass by crossing each bridge once and only once?***\n",
    "\n",
    "Euler's negative resolution to this question laid the foundations of graph theory. Before diving into Euler's solution, let's reformulate the problem.\n",
    "\n",
    "### Reformulating the Problem in Abstract Terms\n",
    "\n",
    "In order to have a clear look, we should first simplify the map a little.\n",
    "\n",
    "![image:part1](images/part1.png)\n",
    "\n",
    "Euler observed that the choice of route inside each land mass is irrelevant. The only thing that matters is the sequence of bridges to be crossed. This observation allows us to abstract the problem even more. In the graph below, blue vertices represent the land masses and edges represent the bridges that connect them."
   ]
  },
  {
   "cell_type": "code",
   "execution_count": null,
   "id": "f9670ec5",
   "metadata": {},
   "outputs": [],
   "source": [
    "# Create graph\n",
    "G = nx.DiGraph()\n",
    "G.add_edge(\"A\", \"B\", label=\"a\")\n",
    "G.add_edge(\"B\", \"A\", label=\"b\")\n",
    "G.add_edge(\"A\", \"C\", label=\"c\")\n",
    "G.add_edge(\"C\", \"A\", label=\"d\")\n",
    "G.add_edge(\"A\", \"D\", label=\"e\")\n",
    "G.add_edge(\"B\", \"D\", label=\"f\")\n",
    "G.add_edge(\"C\", \"D\", label=\"g\")\n",
    "\n",
    "positions = {\"A\": (0, 0), \"B\": (1, -2), \"C\": (1, 2), \"D\": (2, 0)}\n",
    "\n",
    "# Visualize graph\n",
    "nx.draw_networkx_nodes(G, pos=positions, node_size=500)\n",
    "nx.draw_networkx_edges(\n",
    "    G, pos=positions, edgelist=[(\"A\", \"D\"), (\"B\", \"D\"), (\"C\", \"D\")], arrowstyle=\"-\"\n",
    ")\n",
    "nx.draw_networkx_edges(\n",
    "    G,\n",
    "    pos=positions,\n",
    "    edgelist=[(\"A\", \"B\"), (\"B\", \"A\"), (\"C\", \"A\"), (\"A\", \"C\")],\n",
    "    arrowstyle=\"-\",\n",
    "    connectionstyle=\"arc3,rad=0.2\",\n",
    ");"
   ]
  },
  {
   "cell_type": "markdown",
   "id": "11aaaea2",
   "metadata": {},
   "source": [
    "Based on this abstraction, we can paraphrase the problem as follows:\n",
    "\n",
    "> ***Can you draw the above graph without lifting your pen or crossing on a line more than once?***\n",
    "\n",
    "If you can, it means there is an ***Euler Path*** in the graph. If this path starts and ends at the same blue circle, it is called an ***Euler Circuit***. \n",
    "\n",
    "Note that every Euler Circuit is also an Euler Path.\n",
    "\n",
    "### Euler's Method\n",
    "\n",
    "Euler [^2] denoted land masses of the town by capital letters $A$, $B$, $C$ and $D$ and bridges by lowercase $a$, $b$, $c$, $d$, $e$, $f$ and $g$. Let's draw the graph based on this node and edge labels."
   ]
  },
  {
   "cell_type": "code",
   "execution_count": null,
   "id": "321b8d0a",
   "metadata": {},
   "outputs": [],
   "source": [
    "# Design and draw graph\n",
    "edge_labels = nx.get_edge_attributes(G, \"label\")\n",
    "\n",
    "nx.draw_networkx_nodes(G, pos=positions, node_size=500)\n",
    "nx.draw_networkx_labels(G, pos=positions, font_color=\"w\")\n",
    "nx.draw_networkx_edges(\n",
    "    G, pos=positions, edgelist=[(\"A\", \"D\"), (\"B\", \"D\"), (\"C\", \"D\")], arrowstyle=\"-\"\n",
    ")\n",
    "nx.draw_networkx_edges(\n",
    "    G,\n",
    "    pos=positions,\n",
    "    edgelist=[(\"A\", \"B\"), (\"B\", \"A\"), (\"C\", \"A\"), (\"A\", \"C\")],\n",
    "    arrowstyle=\"-\",\n",
    "    connectionstyle=\"arc3,rad=0.2\",\n",
    ")\n",
    "nx.draw_networkx_edge_labels(G, pos=positions, edge_labels=edge_labels, label_pos=0.2);"
   ]
  },
  {
   "cell_type": "markdown",
   "id": "23e93629",
   "metadata": {},
   "source": [
    "He described his logic as follows:\n",
    "- If we cross bridge $a$, we walk from $A$ to $B$. In this case, our travel route is denoted as $AB$. \n",
    "- If we cross first $a$ and then $f$, our route will be $ABD$.\n",
    "- So, sequential use of $n$ bridges is denoted with $n+1$ capital letters.\n",
    "- Since we need to cross each of 7 bridges, our route should consist of a sequence of $A$, $B$, $C$ and $D$ of length 8.\n",
    "\n",
    "He also stated the fact that number of appearances of each land mass in the route depend on the number of bridges it has.\n",
    "- $A$ has 5 bridges. All these 5 bridges should appear in our Euler Path exactly once. Then, $A$ should appear in our route for 3 times.\n",
    "- $B$ has 3 bridges. It should appear in the route for 2 times.\n",
    "- $C$ has 3 bridges. It should appear in the route for 2 times.\n",
    "- $D$ has 3 bridges. It should appear in the route for 2 times.\n",
    "- Then, the total length of the route should be 3 + 2 + 2 + 2 = 9.\n",
    "\n",
    "It is obvious that we cannot satisfy both of these conditions at the same time. Therefore, Euler concluded that there is no solution to Seven Bridges of Königsberg problem (I.e. Königsberg does not have an Euler Path). \n",
    "\n",
    "### Generalizing Euler's Solution\n",
    "\n",
    "Euler generalized the method he applied for Königsberg problem as follows:\n",
    "\n",
    "> ***A graph has an Euler Path if and only if the number of vertices with odd degree is either zero or two.***\n",
    "\n",
    "- If there are two vertices with odd degree, then they are the starting and ending vertices.\n",
    "- If there are no vertices with odd degree, any vertex can be starting or ending vertex and the graph has also an Euler Circuit.\n",
    "\n",
    "## Euler's Algorithm in NetworkX\n",
    "\n",
    "NetworkX implements several methods using the Euler's algorithm. These are:\n",
    "- **is_eulerian**      : Whether the graph has an Eulerian circuit\n",
    "- **eulerian_circuit** : Sequence of edges of an Eulerian circuit in the graph.\n",
    "- **eulerize**         : Transforms a graph into an Eulerian graph\n",
    "- **is_semieulerian**  : Whether the graph has an Eulerian path but not an Eulerian circuit.\n",
    "- **has_eulerian_path**: Whether the graph has an Eulerian path.\n",
    "- **eulerian_path**    : Sequence of edges of in Eulerian path in the graph.\n",
    "\n",
    "In this part, we will briefly explain the NetworkX implementation of Euler's algorithm by explaining some of these methods.\n",
    "\n",
    "**Note**: NetworkX implementation does not allow graphs with isolated nodes to have Eulerian Path and/or Eulerian Circuit. Thus, an Eulerian Path or Eulerian Circuit must visit not only all edges, but also all vertices of the graph.\n",
    "\n",
    "### 1. Eulerian Circuit Implementation\n",
    "\n",
    "Implementation of the `is_eulerian` method is quite simple. In order to have an Euler circuit (i.e. to be Eulerian):\n",
    "- A directed graph must be strongly connected and every vertex of it must have equal in degree and out degree.\n",
    "- An undirected graph must be connected, and it must have no vertices of odd degree.\n",
    "\n",
    "Here is an example:"
   ]
  },
  {
   "cell_type": "code",
   "execution_count": null,
   "id": "56e9b804",
   "metadata": {},
   "outputs": [],
   "source": [
    "T = nx.Graph([(0, 1), (0, 2), (0, 3), (0, 4), (1, 2), (2, 3), (2, 4)])\n",
    "nx.draw(\n",
    "    T, with_labels=True, node_size=1000, font_color=\"White\", node_color=\"darkorange\"\n",
    ")"
   ]
  },
  {
   "cell_type": "code",
   "execution_count": null,
   "id": "48ef1e2d",
   "metadata": {},
   "outputs": [],
   "source": [
    "def is_eulerian(G):\n",
    "    if G.is_directed():\n",
    "        return all(\n",
    "            G.in_degree(n) == G.out_degree(n) for n in G\n",
    "        ) and nx.is_strongly_connected(G)\n",
    "    else:\n",
    "        return all(d % 2 == 0 for v, d in G.degree()) and nx.is_connected(G)"
   ]
  },
  {
   "cell_type": "code",
   "execution_count": null,
   "id": "40281d35",
   "metadata": {},
   "outputs": [],
   "source": [
    "is_eulerian(T)"
   ]
  },
  {
   "cell_type": "markdown",
   "id": "98dd0b42",
   "metadata": {},
   "source": [
    "NetworkX has also implemented the `eulerian_circuit` method to determine sequence of edges that consist of a Euler Circuit.\n",
    "\n",
    "The method uses a stack data structure to keep vertices, it starts with the source vertex and pushes into stack. At each following iteration, it pops a vertex from the stack, chooses a neighbor of it, pushes the chosen vertex to the stack and removes the chosen edge from the graph.\n",
    "\n",
    "```python\n",
    "circuit = []\n",
    "\n",
    "if G.is_directed():\n",
    "    degree = G.out_degree\n",
    "    edges = G.out_edges\n",
    "else:\n",
    "    degree = G.degree\n",
    "    edges = G.edges\n",
    "\n",
    "vertex_stack = [0]\n",
    "last_vertex = None\n",
    "while vertex_stack:\n",
    "    current_vertex = vertex_stack[-1]\n",
    "    circuit.append(current_vertex)\n",
    "    if G.degree(current_vertex) == 0:\n",
    "        if last_vertex is not None:\n",
    "            break\n",
    "        last_vertex = current_vertex\n",
    "        vertex_stack.pop()\n",
    "    else:\n",
    "        _, next_vertex = next(iter(G.edges(current_vertex)))\n",
    "        vertex_stack.append(next_vertex)\n",
    "        G.remove_edge(current_vertex, next_vertex)\n",
    "```\n",
    "\n",
    "### 2. Eulerian Path Implementation\n",
    "\n",
    "Networkx implementation of `has_eulerian_path` first checks if the graph `is_eulerian` or not. Remember that if a graph is Eulerian (i.e. has Euler Circuit), then it also has Eulerian Path.\n",
    "\n",
    "```python\n",
    "def has_eulerian_path(G, source=None):\n",
    "    if nx.is_eulerian(G):\n",
    "        return True\n",
    "```\n",
    "\n",
    "If an undirected graph is not Eulerian, it can still be `semi_eulerian` meaning that it might have an Eulerian Path with different starting and ending vertices. As explained above, this is possible if and only if\n",
    "- there are exactly two vertices of odd degree, and\n",
    "- all of its vertices belong to a single connected component.\n",
    "\n",
    "If source vertex is given by the user, it must have an odd degree. Otherwise, there cannot be an Eulerian Path starting from the given source.\n",
    "\n",
    "```python\n",
    "    if G.is_directed() == False:\n",
    "        if source is not None and G.degree[source] % 2 != 1:\n",
    "            return False\n",
    "        return(sum(d % 2 == 1 for _, d in G.degree()) == 2 and nx.is_connected(G))\n",
    "```\n",
    "\n",
    "For a directed graph to has an Eulerian Path, it must have \n",
    "- at most one vertex has out_degree - in_degree = 1,\n",
    "- at most one vertex has in_degree - out_degree = 1,\n",
    "- every other vertex has equal in_degree and out_degree, and \n",
    "- all of its vertices belong to a single connected component of the underlying undirected graph *(I.e. Should be weakly connected)*.\n",
    "\n",
    "```python\n",
    "    if G.is_directed():\n",
    "        ins = G.in_degree\n",
    "        outs = G.out_degree\n",
    "        if source is not None and outs[source] - ins[source] != 1:\n",
    "            return False\n",
    "\n",
    "        unbalanced_ins = 0\n",
    "        unbalanced_outs = 0\n",
    "        for v in G:\n",
    "            if ins[v] - outs[v] == 1:\n",
    "                unbalanced_ins += 1\n",
    "            elif outs[v] - ins[v] == 1:\n",
    "                unbalanced_outs += 1\n",
    "            elif ins[v] != outs[v]:\n",
    "                return False\n",
    "\n",
    "        return (\n",
    "            unbalanced_ins <= 1 and unbalanced_outs <= 1 and nx.is_weakly_connected(G)\n",
    "        )\n",
    "```\n",
    "\n",
    "Using already implemented methods, ```is_semieulerian``` simply checks if the input graph does not have an Eulerian circuit but an Eulerian path with a one line of code."
   ]
  },
  {
   "cell_type": "code",
   "execution_count": null,
   "id": "7086216c",
   "metadata": {},
   "outputs": [],
   "source": [
    "def is_semieulerian(G):\n",
    "    return has_eulerian_path(G) and not is_eulerian(G)"
   ]
  },
  {
   "cell_type": "markdown",
   "id": "4896e384",
   "metadata": {},
   "source": [
    "### 3. Examples\n",
    "\n",
    "Let's call the methods above on the Seven Bridges problem. For the reasons explained above, we expect our graph to have neither an Eulerian Circuit nor an Eulerian Path."
   ]
  },
  {
   "cell_type": "code",
   "execution_count": null,
   "id": "4deddd1b",
   "metadata": {},
   "outputs": [],
   "source": [
    "nx.is_eulerian(G)"
   ]
  },
  {
   "cell_type": "code",
   "execution_count": null,
   "id": "9dad6b4b",
   "metadata": {},
   "outputs": [],
   "source": [
    "nx.has_eulerian_path(G)"
   ]
  },
  {
   "cell_type": "markdown",
   "id": "2a7c91bb",
   "metadata": {},
   "source": [
    "We can conclude this section with another example. Do you expect a wheel graph to have an Eulerian Path?"
   ]
  },
  {
   "cell_type": "code",
   "execution_count": null,
   "id": "fa32f25d",
   "metadata": {},
   "outputs": [],
   "source": [
    "W = nx.wheel_graph(6)\n",
    "nx.draw(W, with_labels=True, node_size=1000, font_color=\"White\", node_color=\"green\")"
   ]
  },
  {
   "cell_type": "markdown",
   "id": "283871b9",
   "metadata": {},
   "source": [
    "The answer is No! All nodes except for the one in the center have exactly 3 edges in the wheel graph. Thus, it cannot have an Eulerian Path."
   ]
  },
  {
   "cell_type": "code",
   "execution_count": null,
   "id": "dfdd7822",
   "metadata": {},
   "outputs": [],
   "source": [
    "nx.has_eulerian_path(W)"
   ]
  },
  {
   "cell_type": "markdown",
   "id": "a1497bfb",
   "metadata": {},
   "source": [
    "## Euler is everywhere!\n",
    "\n",
    "Euler's algorithm is essential for anyone or anything that uses paths. Some examples of its real applications:\n",
    "- To solve many complex problems, like the Konigsberg Seven Bridges Problem explained above.\n",
    "- Mail carriers can use Eulerian Paths to have a route where they don’t have to retrace their previous steps.\n",
    "- Useful for painters, garbage collections, airplane pilots, GPS developers (*e.g. Google Maps developers*).\n",
    "\n",
    "## References\n",
    "\n",
    "[^1]:  [Wikipedia, Seven Bridge of Konigsberg](https://en.wikipedia.org/wiki/Seven_Bridges_of_K%C3%B6nigsberg)\n",
    "\n",
    "[^2]:  Euler, Leonhard, ‘Solutio problematis ad geometriam situs pertinentis’ (1741), Eneström 53, MAA Euler Archive."
   ]
  }
 ],
 "metadata": {
  "jupytext": {
   "main_language": "python"
  },
  "kernelspec": {
   "display_name": "Python 3 (ipykernel)",
   "language": "python",
   "name": "python3"
  }
 },
 "nbformat": 4,
 "nbformat_minor": 5
}
