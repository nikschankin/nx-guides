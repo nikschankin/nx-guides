{
 "cells": [
  {
   "cell_type": "markdown",
   "id": "578e0abf",
   "metadata": {},
   "source": [
    "# Isomorphism - How to find if two graphs are similar?"
   ]
  },
  {
   "cell_type": "code",
   "execution_count": null,
   "id": "91ceb9a9",
   "metadata": {},
   "outputs": [],
   "source": [
    "import networkx as nx\n",
    "import matplotlib.pyplot as plt"
   ]
  },
  {
   "cell_type": "markdown",
   "id": "275bf4b9",
   "metadata": {},
   "source": [
    "## What is isomorphism? Why is it interesting?\n",
    "\n",
    "As unlabeled graphs can have multiple spatial representations, two graphs are isomorphic if they have the same number of edges, vertices, and same edges connectivity. Let's see an example of two isomorphic graphs,"
   ]
  },
  {
   "cell_type": "code",
   "execution_count": null,
   "id": "9d84b331",
   "metadata": {},
   "outputs": [],
   "source": [
    "plt.subplot(221)\n",
    "G = nx.cubical_graph()\n",
    "nx.draw_spectral(G, with_labels=True, node_color=\"c\")\n",
    "plt.title(\"G\", fontweight=\"bold\")\n",
    "H = nx.cubical_graph()\n",
    "plt.subplot(222)\n",
    "nx.draw_circular(H, with_labels=True, node_color=\"yellow\")\n",
    "plt.title(\"H\", fontweight=\"bold\")\n",
    "\n",
    "plt.show()"
   ]
  },
  {
   "cell_type": "markdown",
   "id": "3eee87e8",
   "metadata": {},
   "source": [
    "The spatial representations of these two graphs are very different yet\n",
    "they are the same graphs!\n",
    "\n",
    "### Formal definition\n",
    "\n",
    "G and H are isomorphic if we can establish a bijection between the vertex sets of G and H. \n",
    "\n",
    "$$ {\\displaystyle f\\colon N(G)\\to N(H)} $$\n",
    "\n",
    "such as if \n",
    "\n",
    "$v$  and $ w $ are  adjacent  in G $\\iff$ $f(v)$ and $f(w)$ are adjacent in H \n",
    "\n",
    "\n",
    "To formally prove that 2 graphs are isomorphic we need to find the bijection between the vertex set. For the previous example that would be: \n",
    "\n",
    "$$f(i) = i+1 \\hspace{0.5cm} \\forall i \\in [0, 7]$$\n",
    "\n",
    "\n",
    "For small examples, isomorphism may seem easy. But it isn't a simple problem. For two graphs G and H of n nodes, there are n! possible bijection functions.\n",
    "Checking every combination is not a feasible option for bigger graphs. \n",
    "In fact, isomorphism is part of the problems known as NP. This means that we don't know any algorithm that runs in polynomial time.\n",
    "\n",
    "\n",
    "### Applications \n",
    "\n",
    "There are a lot of applications of the graph isomorphism problem.\n",
    "\n",
    "- Image recognition: Images can be translated to graphs and by finding (sub)isomorphisms we can compare if two images are similar.\n",
    "\n",
    "- Verification of equivalence of different representations of the design of an electronic circuit and communication networks. \n",
    "\n",
    "- Identification of chemical compounds and proteins.\n",
    "\n",
    "- Algorithms for fingerprint, facial and retina matching.\n",
    "\n",
    "- Clustering Algorithms on social networks.\n",
    "\n",
    "## Isomorphism Algorithms\n",
    "**Naive Approach**\n",
    "\n",
    "\n",
    "There are some initial properties that we can check to decide whether it's possible to have an isomorphism\n",
    "- G and H must have the same number of nodes and edges \n",
    "- The degree sequence for G and H must be the same\n",
    "\n",
    "These are necessary conditions but don't guarantee that two graphs are isomorphic. Let's see a small example:"
   ]
  },
  {
   "cell_type": "code",
   "execution_count": null,
   "id": "93f188dd",
   "metadata": {},
   "outputs": [],
   "source": [
    "plt.subplot(221)\n",
    "G = nx.cycle_graph(6)\n",
    "nx.draw_circular(G)\n",
    "plt.title(\"G\", fontweight=\"bold\")\n",
    "plt.subplot(222)\n",
    "H = nx.union(nx.cycle_graph(3), nx.cycle_graph(3), rename=(\"s\", \"d\"))\n",
    "nx.draw_circular(H, node_color=\"r\")\n",
    "plt.title(\"H\", fontweight=\"bold\")\n",
    "plt.show()"
   ]
  },
  {
   "cell_type": "markdown",
   "id": "b6261041",
   "metadata": {},
   "source": [
    "We can use the function `nx.faster_could_be_isomorphic()` that returns True if G and H have the same degree secuence."
   ]
  },
  {
   "cell_type": "code",
   "execution_count": null,
   "id": "58ff1383",
   "metadata": {},
   "outputs": [],
   "source": [
    "nx.faster_could_be_isomorphic(G, H)"
   ]
  },
  {
   "cell_type": "markdown",
   "id": "2d4a97bc",
   "metadata": {},
   "source": [
    "These graphs are clearly not isomorphic but they have the same degree secuence.\n",
    "\n",
    "Another property we can check for is: \n",
    "- The same number of cycles of a particular length, for example, triangles. \n",
    "\n",
    "We can use the function `nx.fast_could_be_isomorphic()` to check if the graphs have the same degree and triangle sequence. The triangle sequence contains the number of triangles each node is part of."
   ]
  },
  {
   "cell_type": "code",
   "execution_count": null,
   "id": "464c4968",
   "metadata": {},
   "outputs": [],
   "source": [
    "nx.fast_could_be_isomorphic(G, H)"
   ]
  },
  {
   "cell_type": "markdown",
   "id": "21ec7a83",
   "metadata": {},
   "source": [
    "This new property allows us to detect that the graphs from the previous example were not isomorphic. \n",
    "\n",
    "We can go one step further and check: \n",
    "- The same number of maximal cliques. \n",
    "\n",
    "We can use the function `nx.could_be_isomorphic()` to check if the graphs have the same degree, triangle, and clique sequence.\n",
    "The clique sequence contains for each node the number of the maximal clique involving that node."
   ]
  },
  {
   "cell_type": "code",
   "execution_count": null,
   "id": "a7b05c93",
   "metadata": {},
   "outputs": [],
   "source": [
    "nx.could_be_isomorphic(G, H)"
   ]
  },
  {
   "cell_type": "markdown",
   "id": "88d54e61",
   "metadata": {},
   "source": [
    "Again we can detect that G and H are not isomorphic. But these conditions are not enough to say that two graphs are isomorphic. Let's look at the following example:"
   ]
  },
  {
   "cell_type": "code",
   "execution_count": null,
   "id": "62033042",
   "metadata": {},
   "outputs": [],
   "source": [
    "plt.subplot(221)\n",
    "G = nx.path_graph(5)\n",
    "G.add_edge(2, 5)\n",
    "nx.draw_circular(G, with_labels=True, node_color=\"g\")\n",
    "plt.title(\"G\", fontweight=\"bold\")\n",
    "\n",
    "plt.subplot(222)\n",
    "H = nx.path_graph(5)\n",
    "H.add_edge(3, 5)\n",
    "nx.draw_circular(H, with_labels=True, node_color=\"c\")\n",
    "plt.title(\"H\", fontweight=\"bold\")\n",
    "plt.show()"
   ]
  },
  {
   "cell_type": "code",
   "execution_count": null,
   "id": "f101b9b2",
   "metadata": {},
   "outputs": [],
   "source": [
    "nx.could_be_isomorphic(G, H)"
   ]
  },
  {
   "cell_type": "markdown",
   "id": "5f3fd928",
   "metadata": {},
   "source": [
    "These graphs meet all the necessary conditions but they're not isomorphic.\n",
    "\n",
    "\n",
    "## Some classes of graphs with solution in polynomial time\n",
    "- Trees\n",
    "- Planar graphs(In fact, planar graph isomorphism is O(log(n)))\n",
    "- Interval graphs\n",
    "- Permutation graphs\n",
    "- Circulant graphs\n",
    "- Bounded-parameter graphs\n",
    "    - Graphs of bounded treewidth\n",
    "    - Graphs of bounded genus\n",
    "    - Graphs of bounded degree\n",
    "    - Graphs with bounded eigenvalue multiplicity\n",
    "    - k-Contractible graphs (a generalization of bounded degree and bounded genus)\n",
    "\n",
    "Let's see an example, we can use the function *tree_isomorphism()* from the isomorphism module to check if two trees are isomorphic in $O(n*log(n))$. This function uses a D&C approach to match the trees once it has found the root of each tree and returns a list with the node matching. \n",
    "\n",
    "So let's use it to check that a 2-ary tree of $2^4 - 1$ nodes is a balanced binary tree of height 3."
   ]
  },
  {
   "cell_type": "code",
   "execution_count": null,
   "id": "c1db97dd",
   "metadata": {},
   "outputs": [],
   "source": [
    "t1 = nx.balanced_tree(2, 3)\n",
    "t2 = nx.full_rary_tree(2, 15)\n",
    "\n",
    "from networkx.algorithms import isomorphism as iso\n",
    "\n",
    "print(\"Node matching\")\n",
    "iso.tree_isomorphism(t1, t2)"
   ]
  },
  {
   "cell_type": "markdown",
   "id": "2f7da688",
   "metadata": {},
   "source": [
    "## Advanced Algorithms\n",
    "\n",
    "<!-- #region -->\n",
    "### VF2\n",
    "\n",
    "This algorithm is used to solve graph isomorphism and sub-graph isomorphism as well. \n",
    "\n",
    "VF2 is a recursive algorithm where in each step we extend the current matching function to cover more nodes of both graphs until there are no more nodes to match. This is not a brute-force approach because there are some feasibility rules to avoid exploring the whole recursion tree. \n",
    "\n",
    "\n",
    "Formally, We have a function $ M: s \\rightarrow N(G) \\times N(H) $. $M$ is a matching function between the subsets of nodes from $G$ and $H$ at the current state $s$. We start with an initial state $s_0$ with $M(s_0) = \\emptyset$. In each step we consider a set of nodes to expand the current state $s$ to the following state $s'$. In this new state $M(s') = M(s) \\cup {(g, h)} , g\\in N(G), h\\in N(H)$. The consistency condition is that the partial graphs $G$ and $H$ associated with $M(s)$ are isomorphic. There are two types of feasibility checks: \n",
    "- syntactic (graph structure): consist of checking the consistency condition and also the k-look-ahead rules, for checking in advance if a consistent state $s$ has no consistent successors after k steps.\n",
    "- semantic(attributes). \n",
    "\n",
    "Pseudocode:\n",
    "<!-- #endregion -->\n",
    "\n",
    "**Match(s):**\n",
    "    \n",
    "    Input: Intermediate state\n",
    "    \n",
    "    Output: The mapping between the 2 graphs\n",
    "    \n",
    "    IF M(s) covers all nodes of H THEN:\n",
    "        RETURN M(s)\n",
    "    ELSE:\n",
    "        Compute P = {(g, h)...} the set of candidates for inclusion in M(s). \n",
    "        FOR each p in P:\n",
    "            IF the feasibility rules succeed for the inclusion of p in M(s) THEN:\n",
    "                Compute the state of s'\n",
    "                MATCH(s')\n",
    "           ENDIF\n",
    "       ENDFOR\n",
    "       Restore data structures\n",
    "    ENDIF\n",
    "\n",
    "\n",
    "Let's use VF2 to check that the graphs from the previous example:"
   ]
  },
  {
   "cell_type": "code",
   "execution_count": null,
   "id": "00bfff7a",
   "metadata": {},
   "outputs": [],
   "source": [
    "G = nx.path_graph(5)\n",
    "G.add_edge(2, 5)\n",
    "\n",
    "H = nx.path_graph(5)\n",
    "H.add_edge(3, 5)\n",
    "\n",
    "nx.is_isomorphic(G, H)"
   ]
  },
  {
   "cell_type": "markdown",
   "id": "06cfcd57",
   "metadata": {},
   "source": [
    "**Time Complexity**\n",
    "- Best Case $\\in \\theta(n²)$ if only $n$ states are explored, for example, if each node is explored once.   \n",
    "- Worst Case $\\in \\theta(n!n)$ if all the possible matchings have to be completely explored.\n",
    "\n",
    "\n",
    "## State of the art \n",
    "- VF2++ and VF2 Plus. They include some optimizations over the algorithm VF2. \n",
    "- There are some new algorithms: QuickSI, GraphQL, TurboISO, BoostISO, CFL-Match, VF3, CECI, and DAF.\n",
    "\n",
    "\n",
    "### References\n",
    "- Gross J., Yellen J., Anderson M. (2018). *Graph Theory and Its applications* (3rd edition). CRC Press. \n",
    "- Somkunwar R., Moreshwar Vaze V. *A Comparative Study of Graph Isomorphism Applications*. International Journal of Computer Applications (0975 – 8887). Volume 162 – No 7, (March 2017) <https://www.ijcaonline.org/archives/volume162/number7/somkunwar-2017-ijca-913414.pdf>\n",
    "- L. P. Cordella, P. Foggia, C. Sansone, M. Vento, “An Improved Algorithm for Matching Large Graphs”, IEEE Transactions on Pattern Analysis and Machine Intelligence ( Volume: 26, Issue: 10, October 2004) <https://ieeexplore.ieee.org/document/1323804>\n",
    "- <https://en.wikipedia.org/wiki/Graph_isomorphism_problem>"
   ]
  }
 ],
 "metadata": {
  "jupytext": {
   "main_language": "python"
  },
  "kernelspec": {
   "display_name": "Python 3 (ipykernel)",
   "language": "python",
   "name": "python3"
  }
 },
 "nbformat": 4,
 "nbformat_minor": 5
}
