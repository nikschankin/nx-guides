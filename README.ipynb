{
 "cells": [
  {
   "cell_type": "markdown",
   "id": "e4a013c8",
   "metadata": {},
   "source": [
    "# nx-guides\n",
    "\n",
    "[![Binder](https://mybinder.org/badge_logo.svg)](https://mybinder.org/v2/gh/networkx/nx-guides/main)\n",
    "\n",
    "Examples and IPython Notebooks about NetworkX\n",
    "\n",
    "## Installation requirements ##\n",
    "\n",
    "Install the runtime dependencies using `pip`:\n",
    "\n",
    "    pip install -r requirements.txt\n",
    "\n",
    "## Usage and Attribution\n",
    "\n",
    "The NetworkX team requests that you follow these guidelines if you use these\n",
    "materials in downstream projects.\n",
    "\n",
    "All materials in this repository are available free of restriction under the\n",
    "Creative Commons CC0 1.0 universal Public Domain Dedication (see LICENSE).\n",
    "\n",
    "However, we ask that you actively acknowledge and give attribution to this\n",
    "repository and to the authors if you reproduce these materials or create any\n",
    "derivative works.\n",
    "Specifically:\n",
    "\n",
    " - Keep the CC0 Public Domain Dedication intact when reusing the material\n",
    "   so that others may benefit from the same license you did.\n",
    "\n",
    " - Do not represent yourself as the original author of re-used material."
   ]
  }
 ],
 "metadata": {
  "jupytext": {
   "cell_metadata_filter": "-all",
   "main_language": "python",
   "notebook_metadata_filter": "-all"
  }
 },
 "nbformat": 4,
 "nbformat_minor": 5
}
